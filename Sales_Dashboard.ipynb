{
 "cells": [
  {
   "cell_type": "markdown",
   "id": "e0f3845c-2dc2-45c5-9c99-37383ddb05f9",
   "metadata": {},
   "source": [
    "                                        Sales Dashboard with Tableau"
   ]
  },
  {
   "cell_type": "markdown",
   "id": "7d52beb7-7bdd-4c54-8781-64413990f0ea",
   "metadata": {},
   "source": [
    "Link to the Tableau Public for Dashboard- https://public.tableau.com/app/profile/abha6243/viz/SalesDashboard_17220921805790/Dashboard2"
   ]
  },
  {
   "cell_type": "markdown",
   "id": "1d4fa280-7ada-4f12-b8ab-440d34c33b0b",
   "metadata": {},
   "source": [
    "Problem statement: Create an insightful, intuitive dashboard visualizing the various aspects of sales data from an e-commerce company. You have to delve into the sales data of an e-commerce company, with information about the transactions, the products and the customer demographics and present useful insights with visualizations."
   ]
  },
  {
   "cell_type": "markdown",
   "id": "ae3f80c0-3dab-44fb-9a80-67c90d4e1b6a",
   "metadata": {},
   "source": [
    "We are using Jupyter Notebook for rough data exploration and pre-processing before importing them to Tableau for dashboard creation. \n",
    "Following are some assumptions and conversions we made for a better understanding of the data:\n",
    "\n",
    "1. Converted the 'DAY' column (Transaction.csv) using the calculated field in the tableau, considering the starting date as '01-01-2020'\n",
    "2. Replace '' with the 'Unknown' placeholder in CURR_SIZE_OF_PRODUCT(product.csv), as this seems like the most suitable option for the current scenario.\n",
    "3. Create time categories like dawn, morning, afternoon, and night to find time trends during the day.\n",
    "4. Created revenue KPIs"
   ]
  },
  {
   "cell_type": "code",
   "execution_count": 2,
   "id": "67e67e75-1040-4c40-b7a6-08c1c27d50a7",
   "metadata": {},
   "outputs": [],
   "source": [
    "#Importing libraries\n",
    "import numpy as np\n",
    "import pandas as pd"
   ]
  },
  {
   "cell_type": "markdown",
   "id": "9e1a0f18-aed5-46d6-ae6d-dd089339a0ed",
   "metadata": {},
   "source": [
    "                                                 DEMOGRAPHIC DATASET"
   ]
  },
  {
   "cell_type": "code",
   "execution_count": 117,
   "id": "465af00d-5caf-4554-94a6-e512f3a8c8d3",
   "metadata": {},
   "outputs": [],
   "source": [
    "\n",
    "df_demographic = pd.read_csv(\"hh_demographic.csv\")"
   ]
  },
  {
   "cell_type": "code",
   "execution_count": 118,
   "id": "61dc1f7a-a35e-4ebd-8ace-3eaff593ec48",
   "metadata": {},
   "outputs": [
    {
     "data": {
      "text/plain": [
       "(801, 8)"
      ]
     },
     "execution_count": 118,
     "metadata": {},
     "output_type": "execute_result"
    }
   ],
   "source": [
    "df_demographic.shape"
   ]
  },
  {
   "cell_type": "code",
   "execution_count": 119,
   "id": "84eb8752-e783-489c-8df5-905bd0905401",
   "metadata": {},
   "outputs": [
    {
     "data": {
      "text/plain": [
       "Index(['AGE_DESC', 'MARITAL_STATUS_CODE', 'INCOME_DESC', 'HOMEOWNER_DESC',\n",
       "       'HH_COMP_DESC', 'HOUSEHOLD_SIZE_DESC', 'KID_CATEGORY_DESC',\n",
       "       'household_key'],\n",
       "      dtype='object')"
      ]
     },
     "execution_count": 119,
     "metadata": {},
     "output_type": "execute_result"
    }
   ],
   "source": [
    "#columns present in the data\n",
    "df_demographic.columns"
   ]
  },
  {
   "cell_type": "code",
   "execution_count": 120,
   "id": "961f4a44-b6a1-4de1-b4b0-2bed2ac30931",
   "metadata": {},
   "outputs": [
    {
     "data": {
      "text/plain": [
       "AGE_DESC               object\n",
       "MARITAL_STATUS_CODE    object\n",
       "INCOME_DESC            object\n",
       "HOMEOWNER_DESC         object\n",
       "HH_COMP_DESC           object\n",
       "HOUSEHOLD_SIZE_DESC    object\n",
       "KID_CATEGORY_DESC      object\n",
       "household_key           int64\n",
       "dtype: object"
      ]
     },
     "execution_count": 120,
     "metadata": {},
     "output_type": "execute_result"
    }
   ],
   "source": [
    "df_demographic.dtypes"
   ]
  },
  {
   "cell_type": "code",
   "execution_count": 121,
   "id": "f3e078cf-6274-4766-81ba-d74cef56d045",
   "metadata": {},
   "outputs": [
    {
     "data": {
      "text/html": [
       "<div>\n",
       "<style scoped>\n",
       "    .dataframe tbody tr th:only-of-type {\n",
       "        vertical-align: middle;\n",
       "    }\n",
       "\n",
       "    .dataframe tbody tr th {\n",
       "        vertical-align: top;\n",
       "    }\n",
       "\n",
       "    .dataframe thead th {\n",
       "        text-align: right;\n",
       "    }\n",
       "</style>\n",
       "<table border=\"1\" class=\"dataframe\">\n",
       "  <thead>\n",
       "    <tr style=\"text-align: right;\">\n",
       "      <th></th>\n",
       "      <th>AGE_DESC</th>\n",
       "      <th>MARITAL_STATUS_CODE</th>\n",
       "      <th>INCOME_DESC</th>\n",
       "      <th>HOMEOWNER_DESC</th>\n",
       "      <th>HH_COMP_DESC</th>\n",
       "      <th>HOUSEHOLD_SIZE_DESC</th>\n",
       "      <th>KID_CATEGORY_DESC</th>\n",
       "      <th>household_key</th>\n",
       "    </tr>\n",
       "  </thead>\n",
       "  <tbody>\n",
       "    <tr>\n",
       "      <th>0</th>\n",
       "      <td>65+</td>\n",
       "      <td>A</td>\n",
       "      <td>35-49K</td>\n",
       "      <td>Homeowner</td>\n",
       "      <td>2 Adults No Kids</td>\n",
       "      <td>2</td>\n",
       "      <td>None/Unknown</td>\n",
       "      <td>1</td>\n",
       "    </tr>\n",
       "    <tr>\n",
       "      <th>1</th>\n",
       "      <td>45-54</td>\n",
       "      <td>A</td>\n",
       "      <td>50-74K</td>\n",
       "      <td>Homeowner</td>\n",
       "      <td>2 Adults No Kids</td>\n",
       "      <td>2</td>\n",
       "      <td>None/Unknown</td>\n",
       "      <td>7</td>\n",
       "    </tr>\n",
       "    <tr>\n",
       "      <th>2</th>\n",
       "      <td>25-34</td>\n",
       "      <td>U</td>\n",
       "      <td>25-34K</td>\n",
       "      <td>Unknown</td>\n",
       "      <td>2 Adults Kids</td>\n",
       "      <td>3</td>\n",
       "      <td>1</td>\n",
       "      <td>8</td>\n",
       "    </tr>\n",
       "    <tr>\n",
       "      <th>3</th>\n",
       "      <td>25-34</td>\n",
       "      <td>U</td>\n",
       "      <td>75-99K</td>\n",
       "      <td>Homeowner</td>\n",
       "      <td>2 Adults Kids</td>\n",
       "      <td>4</td>\n",
       "      <td>2</td>\n",
       "      <td>13</td>\n",
       "    </tr>\n",
       "    <tr>\n",
       "      <th>4</th>\n",
       "      <td>45-54</td>\n",
       "      <td>B</td>\n",
       "      <td>50-74K</td>\n",
       "      <td>Homeowner</td>\n",
       "      <td>Single Female</td>\n",
       "      <td>1</td>\n",
       "      <td>None/Unknown</td>\n",
       "      <td>16</td>\n",
       "    </tr>\n",
       "  </tbody>\n",
       "</table>\n",
       "</div>"
      ],
      "text/plain": [
       "  AGE_DESC MARITAL_STATUS_CODE INCOME_DESC HOMEOWNER_DESC      HH_COMP_DESC  \\\n",
       "0      65+                   A      35-49K      Homeowner  2 Adults No Kids   \n",
       "1    45-54                   A      50-74K      Homeowner  2 Adults No Kids   \n",
       "2    25-34                   U      25-34K        Unknown     2 Adults Kids   \n",
       "3    25-34                   U      75-99K      Homeowner     2 Adults Kids   \n",
       "4    45-54                   B      50-74K      Homeowner     Single Female   \n",
       "\n",
       "  HOUSEHOLD_SIZE_DESC KID_CATEGORY_DESC  household_key  \n",
       "0                   2      None/Unknown              1  \n",
       "1                   2      None/Unknown              7  \n",
       "2                   3                 1              8  \n",
       "3                   4                 2             13  \n",
       "4                   1      None/Unknown             16  "
      ]
     },
     "execution_count": 121,
     "metadata": {},
     "output_type": "execute_result"
    }
   ],
   "source": [
    "df_demographic.head()"
   ]
  },
  {
   "cell_type": "code",
   "execution_count": 122,
   "id": "fbceb69e-dd17-4f04-9502-61d4c1052ae2",
   "metadata": {},
   "outputs": [
    {
     "data": {
      "text/html": [
       "<div>\n",
       "<style scoped>\n",
       "    .dataframe tbody tr th:only-of-type {\n",
       "        vertical-align: middle;\n",
       "    }\n",
       "\n",
       "    .dataframe tbody tr th {\n",
       "        vertical-align: top;\n",
       "    }\n",
       "\n",
       "    .dataframe thead th {\n",
       "        text-align: right;\n",
       "    }\n",
       "</style>\n",
       "<table border=\"1\" class=\"dataframe\">\n",
       "  <thead>\n",
       "    <tr style=\"text-align: right;\">\n",
       "      <th></th>\n",
       "      <th>AGE_DESC</th>\n",
       "      <th>MARITAL_STATUS_CODE</th>\n",
       "      <th>INCOME_DESC</th>\n",
       "      <th>HOMEOWNER_DESC</th>\n",
       "      <th>HH_COMP_DESC</th>\n",
       "      <th>HOUSEHOLD_SIZE_DESC</th>\n",
       "      <th>KID_CATEGORY_DESC</th>\n",
       "      <th>household_key</th>\n",
       "    </tr>\n",
       "  </thead>\n",
       "  <tbody>\n",
       "    <tr>\n",
       "      <th>796</th>\n",
       "      <td>35-44</td>\n",
       "      <td>U</td>\n",
       "      <td>50-74K</td>\n",
       "      <td>Homeowner</td>\n",
       "      <td>2 Adults No Kids</td>\n",
       "      <td>2</td>\n",
       "      <td>None/Unknown</td>\n",
       "      <td>2494</td>\n",
       "    </tr>\n",
       "    <tr>\n",
       "      <th>797</th>\n",
       "      <td>45-54</td>\n",
       "      <td>A</td>\n",
       "      <td>75-99K</td>\n",
       "      <td>Homeowner</td>\n",
       "      <td>Unknown</td>\n",
       "      <td>3</td>\n",
       "      <td>1</td>\n",
       "      <td>2496</td>\n",
       "    </tr>\n",
       "    <tr>\n",
       "      <th>798</th>\n",
       "      <td>45-54</td>\n",
       "      <td>U</td>\n",
       "      <td>35-49K</td>\n",
       "      <td>Unknown</td>\n",
       "      <td>Single Male</td>\n",
       "      <td>1</td>\n",
       "      <td>None/Unknown</td>\n",
       "      <td>2497</td>\n",
       "    </tr>\n",
       "    <tr>\n",
       "      <th>799</th>\n",
       "      <td>25-34</td>\n",
       "      <td>U</td>\n",
       "      <td>50-74K</td>\n",
       "      <td>Homeowner</td>\n",
       "      <td>2 Adults No Kids</td>\n",
       "      <td>2</td>\n",
       "      <td>None/Unknown</td>\n",
       "      <td>2498</td>\n",
       "    </tr>\n",
       "    <tr>\n",
       "      <th>800</th>\n",
       "      <td>25-34</td>\n",
       "      <td>U</td>\n",
       "      <td>Under 15K</td>\n",
       "      <td>Unknown</td>\n",
       "      <td>2 Adults Kids</td>\n",
       "      <td>3</td>\n",
       "      <td>1</td>\n",
       "      <td>2499</td>\n",
       "    </tr>\n",
       "  </tbody>\n",
       "</table>\n",
       "</div>"
      ],
      "text/plain": [
       "    AGE_DESC MARITAL_STATUS_CODE INCOME_DESC HOMEOWNER_DESC      HH_COMP_DESC  \\\n",
       "796    35-44                   U      50-74K      Homeowner  2 Adults No Kids   \n",
       "797    45-54                   A      75-99K      Homeowner           Unknown   \n",
       "798    45-54                   U      35-49K        Unknown       Single Male   \n",
       "799    25-34                   U      50-74K      Homeowner  2 Adults No Kids   \n",
       "800    25-34                   U   Under 15K        Unknown     2 Adults Kids   \n",
       "\n",
       "    HOUSEHOLD_SIZE_DESC KID_CATEGORY_DESC  household_key  \n",
       "796                   2      None/Unknown           2494  \n",
       "797                   3                 1           2496  \n",
       "798                   1      None/Unknown           2497  \n",
       "799                   2      None/Unknown           2498  \n",
       "800                   3                 1           2499  "
      ]
     },
     "execution_count": 122,
     "metadata": {},
     "output_type": "execute_result"
    }
   ],
   "source": [
    "df_demographic.tail()"
   ]
  },
  {
   "cell_type": "code",
   "execution_count": 124,
   "id": "88b9ba06-53fb-49f3-bf8e-4b8d35584791",
   "metadata": {},
   "outputs": [
    {
     "data": {
      "text/plain": [
       "AGE_DESC               0\n",
       "MARITAL_STATUS_CODE    0\n",
       "INCOME_DESC            0\n",
       "HOMEOWNER_DESC         0\n",
       "HH_COMP_DESC           0\n",
       "HOUSEHOLD_SIZE_DESC    0\n",
       "KID_CATEGORY_DESC      0\n",
       "household_key          0\n",
       "dtype: int64"
      ]
     },
     "execution_count": 124,
     "metadata": {},
     "output_type": "execute_result"
    }
   ],
   "source": [
    "# Is there any missing value in the dataset?\n",
    "df_demographic.isna().sum()\n",
    "# np.any(df_demographic.isna())"
   ]
  },
  {
   "cell_type": "code",
   "execution_count": 15,
   "id": "26af740e-3dbc-4921-b514-49ae5fd55071",
   "metadata": {},
   "outputs": [
    {
     "data": {
      "text/plain": [
       "False"
      ]
     },
     "execution_count": 15,
     "metadata": {},
     "output_type": "execute_result"
    }
   ],
   "source": [
    "# Is there any duplicate value in the dataset ?\n",
    "np.any(df_demographic.duplicated())"
   ]
  },
  {
   "cell_type": "code",
   "execution_count": 16,
   "id": "37b80abf-3972-41e8-8bc0-e1816828dc60",
   "metadata": {},
   "outputs": [
    {
     "name": "stdout",
     "output_type": "stream",
     "text": [
      "<class 'pandas.core.frame.DataFrame'>\n",
      "RangeIndex: 801 entries, 0 to 800\n",
      "Data columns (total 8 columns):\n",
      " #   Column               Non-Null Count  Dtype \n",
      "---  ------               --------------  ----- \n",
      " 0   AGE_DESC             801 non-null    object\n",
      " 1   MARITAL_STATUS_CODE  801 non-null    object\n",
      " 2   INCOME_DESC          801 non-null    object\n",
      " 3   HOMEOWNER_DESC       801 non-null    object\n",
      " 4   HH_COMP_DESC         801 non-null    object\n",
      " 5   HOUSEHOLD_SIZE_DESC  801 non-null    object\n",
      " 6   KID_CATEGORY_DESC    801 non-null    object\n",
      " 7   household_key        801 non-null    int64 \n",
      "dtypes: int64(1), object(7)\n",
      "memory usage: 50.2+ KB\n"
     ]
    }
   ],
   "source": [
    "# Basic information about the dataset\n",
    "df_demographic.info()"
   ]
  },
  {
   "cell_type": "code",
   "execution_count": 17,
   "id": "fe3db729-33e2-4412-97cd-7d9e579964f2",
   "metadata": {},
   "outputs": [
    {
     "data": {
      "text/html": [
       "<div>\n",
       "<style scoped>\n",
       "    .dataframe tbody tr th:only-of-type {\n",
       "        vertical-align: middle;\n",
       "    }\n",
       "\n",
       "    .dataframe tbody tr th {\n",
       "        vertical-align: top;\n",
       "    }\n",
       "\n",
       "    .dataframe thead th {\n",
       "        text-align: right;\n",
       "    }\n",
       "</style>\n",
       "<table border=\"1\" class=\"dataframe\">\n",
       "  <thead>\n",
       "    <tr style=\"text-align: right;\">\n",
       "      <th></th>\n",
       "      <th>AGE_DESC</th>\n",
       "      <th>MARITAL_STATUS_CODE</th>\n",
       "      <th>INCOME_DESC</th>\n",
       "      <th>HOMEOWNER_DESC</th>\n",
       "      <th>HH_COMP_DESC</th>\n",
       "      <th>HOUSEHOLD_SIZE_DESC</th>\n",
       "      <th>KID_CATEGORY_DESC</th>\n",
       "    </tr>\n",
       "  </thead>\n",
       "  <tbody>\n",
       "    <tr>\n",
       "      <th>count</th>\n",
       "      <td>801</td>\n",
       "      <td>801</td>\n",
       "      <td>801</td>\n",
       "      <td>801</td>\n",
       "      <td>801</td>\n",
       "      <td>801</td>\n",
       "      <td>801</td>\n",
       "    </tr>\n",
       "    <tr>\n",
       "      <th>unique</th>\n",
       "      <td>6</td>\n",
       "      <td>3</td>\n",
       "      <td>12</td>\n",
       "      <td>5</td>\n",
       "      <td>6</td>\n",
       "      <td>5</td>\n",
       "      <td>4</td>\n",
       "    </tr>\n",
       "    <tr>\n",
       "      <th>top</th>\n",
       "      <td>45-54</td>\n",
       "      <td>U</td>\n",
       "      <td>50-74K</td>\n",
       "      <td>Homeowner</td>\n",
       "      <td>2 Adults No Kids</td>\n",
       "      <td>2</td>\n",
       "      <td>None/Unknown</td>\n",
       "    </tr>\n",
       "    <tr>\n",
       "      <th>freq</th>\n",
       "      <td>288</td>\n",
       "      <td>344</td>\n",
       "      <td>192</td>\n",
       "      <td>504</td>\n",
       "      <td>255</td>\n",
       "      <td>318</td>\n",
       "      <td>558</td>\n",
       "    </tr>\n",
       "  </tbody>\n",
       "</table>\n",
       "</div>"
      ],
      "text/plain": [
       "       AGE_DESC MARITAL_STATUS_CODE INCOME_DESC HOMEOWNER_DESC  \\\n",
       "count       801                 801         801            801   \n",
       "unique        6                   3          12              5   \n",
       "top       45-54                   U      50-74K      Homeowner   \n",
       "freq        288                 344         192            504   \n",
       "\n",
       "            HH_COMP_DESC HOUSEHOLD_SIZE_DESC KID_CATEGORY_DESC  \n",
       "count                801                 801               801  \n",
       "unique                 6                   5                 4  \n",
       "top     2 Adults No Kids                   2      None/Unknown  \n",
       "freq                 255                 318               558  "
      ]
     },
     "execution_count": 17,
     "metadata": {},
     "output_type": "execute_result"
    }
   ],
   "source": [
    "# Basic statistical description of the dataset\n",
    "# since most columns are object so description of columns with 'object' datatype\n",
    "df_demographic.describe(include = 'object')\n",
    "# df_demographic.nunique()"
   ]
  },
  {
   "cell_type": "markdown",
   "id": "1a1399d6-5da2-4f50-aeed-b729af554f13",
   "metadata": {},
   "source": [
    "'AGE_DESC' - estimated age range\n",
    "'MARITAL_STATUS_CODE' - marital status (A-MARRIED,B-SINGLE,U-UNKNOWN)\n",
    "'INCOME_DESC' - Household income\n",
    "'HOMEOWNER_DESC' - homeowner, renter\n",
    "'HH_COMP_DESC' - household composition\n",
    "'HOUSEHOLD_SIZE_DESC' - size of household upto 5+\n",
    "'KID_CATEGORY_DESC' - number of children present upto 3+\n",
    "'household_key' - unique for each household"
   ]
  },
  {
   "cell_type": "code",
   "execution_count": 127,
   "id": "4fa89d88-3d70-4953-915f-9788e89ed1ef",
   "metadata": {},
   "outputs": [],
   "source": [
    "# # Total number of transactions made by each age_desc\n",
    "# np.round(df_demographic['AGE_DESC'].value_counts(normalize = True) * 100, 2)\n",
    "# # np.round(df_demographic['AGE_DESC'].value_counts(normalize = True) * 100, 2).cumsum()"
   ]
  },
  {
   "cell_type": "markdown",
   "id": "66f979a8-f750-4f40-819a-7f2af59c0783",
   "metadata": {},
   "source": [
    "                                                        PRODUCT DATASET   "
   ]
  },
  {
   "cell_type": "code",
   "execution_count": 135,
   "id": "09dc3636-546b-4e3c-b0c3-e657e23057d5",
   "metadata": {},
   "outputs": [],
   "source": [
    "df_product= pd.read_csv(\"product.csv\")"
   ]
  },
  {
   "cell_type": "code",
   "execution_count": 136,
   "id": "62773c6d-16ea-46f0-a9e0-0b291ff07bda",
   "metadata": {},
   "outputs": [
    {
     "data": {
      "text/html": [
       "<div>\n",
       "<style scoped>\n",
       "    .dataframe tbody tr th:only-of-type {\n",
       "        vertical-align: middle;\n",
       "    }\n",
       "\n",
       "    .dataframe tbody tr th {\n",
       "        vertical-align: top;\n",
       "    }\n",
       "\n",
       "    .dataframe thead th {\n",
       "        text-align: right;\n",
       "    }\n",
       "</style>\n",
       "<table border=\"1\" class=\"dataframe\">\n",
       "  <thead>\n",
       "    <tr style=\"text-align: right;\">\n",
       "      <th></th>\n",
       "      <th>PRODUCT_ID</th>\n",
       "      <th>MANUFACTURER</th>\n",
       "      <th>DEPARTMENT</th>\n",
       "      <th>BRAND</th>\n",
       "      <th>COMMODITY_DESC</th>\n",
       "      <th>SUB_COMMODITY_DESC</th>\n",
       "      <th>CURR_SIZE_OF_PRODUCT</th>\n",
       "    </tr>\n",
       "  </thead>\n",
       "  <tbody>\n",
       "    <tr>\n",
       "      <th>0</th>\n",
       "      <td>25671</td>\n",
       "      <td>2</td>\n",
       "      <td>GROCERY</td>\n",
       "      <td>National</td>\n",
       "      <td>FRZN ICE</td>\n",
       "      <td>ICE - CRUSHED/CUBED</td>\n",
       "      <td>22 LB</td>\n",
       "    </tr>\n",
       "    <tr>\n",
       "      <th>1</th>\n",
       "      <td>26081</td>\n",
       "      <td>2</td>\n",
       "      <td>MISC. TRANS.</td>\n",
       "      <td>National</td>\n",
       "      <td>NO COMMODITY DESCRIPTION</td>\n",
       "      <td>NO SUBCOMMODITY DESCRIPTION</td>\n",
       "      <td></td>\n",
       "    </tr>\n",
       "    <tr>\n",
       "      <th>2</th>\n",
       "      <td>26093</td>\n",
       "      <td>69</td>\n",
       "      <td>PASTRY</td>\n",
       "      <td>Private</td>\n",
       "      <td>BREAD</td>\n",
       "      <td>BREAD:ITALIAN/FRENCH</td>\n",
       "      <td></td>\n",
       "    </tr>\n",
       "    <tr>\n",
       "      <th>3</th>\n",
       "      <td>26190</td>\n",
       "      <td>69</td>\n",
       "      <td>GROCERY</td>\n",
       "      <td>Private</td>\n",
       "      <td>FRUIT - SHELF STABLE</td>\n",
       "      <td>APPLE SAUCE</td>\n",
       "      <td>50 OZ</td>\n",
       "    </tr>\n",
       "    <tr>\n",
       "      <th>4</th>\n",
       "      <td>26355</td>\n",
       "      <td>69</td>\n",
       "      <td>GROCERY</td>\n",
       "      <td>Private</td>\n",
       "      <td>COOKIES/CONES</td>\n",
       "      <td>SPECIALTY COOKIES</td>\n",
       "      <td>14 OZ</td>\n",
       "    </tr>\n",
       "    <tr>\n",
       "      <th>5</th>\n",
       "      <td>26426</td>\n",
       "      <td>69</td>\n",
       "      <td>GROCERY</td>\n",
       "      <td>Private</td>\n",
       "      <td>SPICES &amp; EXTRACTS</td>\n",
       "      <td>SPICES &amp; SEASONINGS</td>\n",
       "      <td>2.5 OZ</td>\n",
       "    </tr>\n",
       "    <tr>\n",
       "      <th>6</th>\n",
       "      <td>26540</td>\n",
       "      <td>69</td>\n",
       "      <td>GROCERY</td>\n",
       "      <td>Private</td>\n",
       "      <td>COOKIES/CONES</td>\n",
       "      <td>TRAY PACK/CHOC CHIP COOKIES</td>\n",
       "      <td>16 OZ</td>\n",
       "    </tr>\n",
       "    <tr>\n",
       "      <th>7</th>\n",
       "      <td>26601</td>\n",
       "      <td>69</td>\n",
       "      <td>DRUG GM</td>\n",
       "      <td>Private</td>\n",
       "      <td>VITAMINS</td>\n",
       "      <td>VITAMIN - MINERALS</td>\n",
       "      <td>300CT(1)</td>\n",
       "    </tr>\n",
       "    <tr>\n",
       "      <th>8</th>\n",
       "      <td>26636</td>\n",
       "      <td>69</td>\n",
       "      <td>PASTRY</td>\n",
       "      <td>Private</td>\n",
       "      <td>BREAKFAST SWEETS</td>\n",
       "      <td>SW GDS: SW ROLLS/DAN</td>\n",
       "      <td></td>\n",
       "    </tr>\n",
       "    <tr>\n",
       "      <th>9</th>\n",
       "      <td>26691</td>\n",
       "      <td>16</td>\n",
       "      <td>GROCERY</td>\n",
       "      <td>Private</td>\n",
       "      <td>PNT BTR/JELLY/JAMS</td>\n",
       "      <td>HONEY</td>\n",
       "      <td>12 OZ</td>\n",
       "    </tr>\n",
       "  </tbody>\n",
       "</table>\n",
       "</div>"
      ],
      "text/plain": [
       "   PRODUCT_ID  MANUFACTURER    DEPARTMENT     BRAND            COMMODITY_DESC  \\\n",
       "0       25671             2       GROCERY  National                  FRZN ICE   \n",
       "1       26081             2  MISC. TRANS.  National  NO COMMODITY DESCRIPTION   \n",
       "2       26093            69        PASTRY   Private                     BREAD   \n",
       "3       26190            69       GROCERY   Private      FRUIT - SHELF STABLE   \n",
       "4       26355            69       GROCERY   Private             COOKIES/CONES   \n",
       "5       26426            69       GROCERY   Private         SPICES & EXTRACTS   \n",
       "6       26540            69       GROCERY   Private             COOKIES/CONES   \n",
       "7       26601            69       DRUG GM   Private                  VITAMINS   \n",
       "8       26636            69        PASTRY   Private          BREAKFAST SWEETS   \n",
       "9       26691            16       GROCERY   Private        PNT BTR/JELLY/JAMS   \n",
       "\n",
       "            SUB_COMMODITY_DESC CURR_SIZE_OF_PRODUCT  \n",
       "0          ICE - CRUSHED/CUBED                22 LB  \n",
       "1  NO SUBCOMMODITY DESCRIPTION                       \n",
       "2         BREAD:ITALIAN/FRENCH                       \n",
       "3                  APPLE SAUCE                50 OZ  \n",
       "4            SPECIALTY COOKIES                14 OZ  \n",
       "5          SPICES & SEASONINGS               2.5 OZ  \n",
       "6  TRAY PACK/CHOC CHIP COOKIES                16 OZ  \n",
       "7           VITAMIN - MINERALS             300CT(1)  \n",
       "8         SW GDS: SW ROLLS/DAN                       \n",
       "9                        HONEY                12 OZ  "
      ]
     },
     "execution_count": 136,
     "metadata": {},
     "output_type": "execute_result"
    }
   ],
   "source": [
    "df_product.head(10)"
   ]
  },
  {
   "cell_type": "code",
   "execution_count": 139,
   "id": "9725a8ac-07ed-402b-8a12-ab1e469eac5f",
   "metadata": {},
   "outputs": [
    {
     "name": "stdout",
     "output_type": "stream",
     "text": [
      "<class 'pandas.core.frame.DataFrame'>\n",
      "RangeIndex: 92353 entries, 0 to 92352\n",
      "Data columns (total 7 columns):\n",
      " #   Column                Non-Null Count  Dtype \n",
      "---  ------                --------------  ----- \n",
      " 0   PRODUCT_ID            92353 non-null  int64 \n",
      " 1   MANUFACTURER          92353 non-null  int64 \n",
      " 2   DEPARTMENT            92353 non-null  object\n",
      " 3   BRAND                 92353 non-null  object\n",
      " 4   COMMODITY_DESC        92353 non-null  object\n",
      " 5   SUB_COMMODITY_DESC    92353 non-null  object\n",
      " 6   CURR_SIZE_OF_PRODUCT  92353 non-null  object\n",
      "dtypes: int64(2), object(5)\n",
      "memory usage: 4.9+ MB\n"
     ]
    }
   ],
   "source": [
    "df_product.info()"
   ]
  },
  {
   "cell_type": "code",
   "execution_count": 140,
   "id": "fcc9c42f-53c7-414f-baf3-0a493f3f437e",
   "metadata": {},
   "outputs": [
    {
     "data": {
      "text/html": [
       "<div>\n",
       "<style scoped>\n",
       "    .dataframe tbody tr th:only-of-type {\n",
       "        vertical-align: middle;\n",
       "    }\n",
       "\n",
       "    .dataframe tbody tr th {\n",
       "        vertical-align: top;\n",
       "    }\n",
       "\n",
       "    .dataframe thead th {\n",
       "        text-align: right;\n",
       "    }\n",
       "</style>\n",
       "<table border=\"1\" class=\"dataframe\">\n",
       "  <thead>\n",
       "    <tr style=\"text-align: right;\">\n",
       "      <th></th>\n",
       "      <th>DEPARTMENT</th>\n",
       "      <th>BRAND</th>\n",
       "      <th>COMMODITY_DESC</th>\n",
       "      <th>SUB_COMMODITY_DESC</th>\n",
       "      <th>CURR_SIZE_OF_PRODUCT</th>\n",
       "    </tr>\n",
       "  </thead>\n",
       "  <tbody>\n",
       "    <tr>\n",
       "      <th>count</th>\n",
       "      <td>92353</td>\n",
       "      <td>92353</td>\n",
       "      <td>92353</td>\n",
       "      <td>92353</td>\n",
       "      <td>92353</td>\n",
       "    </tr>\n",
       "    <tr>\n",
       "      <th>unique</th>\n",
       "      <td>44</td>\n",
       "      <td>2</td>\n",
       "      <td>308</td>\n",
       "      <td>2383</td>\n",
       "      <td>4345</td>\n",
       "    </tr>\n",
       "    <tr>\n",
       "      <th>top</th>\n",
       "      <td>GROCERY</td>\n",
       "      <td>National</td>\n",
       "      <td>GREETING CARDS/WRAP/PARTY SPLY</td>\n",
       "      <td>CARDS EVERYDAY</td>\n",
       "      <td></td>\n",
       "    </tr>\n",
       "    <tr>\n",
       "      <th>freq</th>\n",
       "      <td>39021</td>\n",
       "      <td>78537</td>\n",
       "      <td>2785</td>\n",
       "      <td>1005</td>\n",
       "      <td>30607</td>\n",
       "    </tr>\n",
       "  </tbody>\n",
       "</table>\n",
       "</div>"
      ],
      "text/plain": [
       "       DEPARTMENT     BRAND                  COMMODITY_DESC  \\\n",
       "count       92353     92353                           92353   \n",
       "unique         44         2                             308   \n",
       "top       GROCERY  National  GREETING CARDS/WRAP/PARTY SPLY   \n",
       "freq        39021     78537                            2785   \n",
       "\n",
       "       SUB_COMMODITY_DESC CURR_SIZE_OF_PRODUCT  \n",
       "count               92353                92353  \n",
       "unique               2383                 4345  \n",
       "top        CARDS EVERYDAY                       \n",
       "freq                 1005                30607  "
      ]
     },
     "execution_count": 140,
     "metadata": {},
     "output_type": "execute_result"
    }
   ],
   "source": [
    "df_product.describe(include = 'object')"
   ]
  },
  {
   "cell_type": "code",
   "execution_count": 138,
   "id": "eeab0879-6aac-4181-a965-ad3180959ac9",
   "metadata": {},
   "outputs": [
    {
     "data": {
      "text/plain": [
       "PRODUCT_ID              0\n",
       "MANUFACTURER            0\n",
       "DEPARTMENT              0\n",
       "BRAND                   0\n",
       "COMMODITY_DESC          0\n",
       "SUB_COMMODITY_DESC      0\n",
       "CURR_SIZE_OF_PRODUCT    0\n",
       "dtype: int64"
      ]
     },
     "execution_count": 138,
     "metadata": {},
     "output_type": "execute_result"
    }
   ],
   "source": [
    "# Is there any missing value in the dataset?\n",
    "df_product.isna().sum()\n",
    "# np.any(df_product.isna())\n"
   ]
  },
  {
   "cell_type": "code",
   "execution_count": null,
   "id": "f5898c45-9822-4494-b1cf-b5762ee5122a",
   "metadata": {},
   "outputs": [],
   "source": [
    "#we found that in 'CURR_SIZE_OF_PRODUCT' values have whitespace, so below we are replacing them with 'Unknown' placeholder."
   ]
  },
  {
   "cell_type": "code",
   "execution_count": 80,
   "id": "8b96a683-9d78-4231-b812-0f3ffc737053",
   "metadata": {},
   "outputs": [],
   "source": [
    "df_product_or = pd.read_csv(\"product.csv\")"
   ]
  },
  {
   "cell_type": "code",
   "execution_count": 83,
   "id": "5f3235c2-533e-43ef-9dcd-1ccd358baa67",
   "metadata": {},
   "outputs": [],
   "source": [
    "#Replaced N/A values with unknown placeholder\n",
    "df_product_or['CURR_SIZE_OF_PRODUCT'] = df_product_or['CURR_SIZE_OF_PRODUCT'].str.strip().replace('', 'Unknown')"
   ]
  },
  {
   "cell_type": "code",
   "execution_count": 141,
   "id": "1abfbfc0-35b3-4799-871c-5f3530cad81a",
   "metadata": {},
   "outputs": [
    {
     "data": {
      "text/html": [
       "<div>\n",
       "<style scoped>\n",
       "    .dataframe tbody tr th:only-of-type {\n",
       "        vertical-align: middle;\n",
       "    }\n",
       "\n",
       "    .dataframe tbody tr th {\n",
       "        vertical-align: top;\n",
       "    }\n",
       "\n",
       "    .dataframe thead th {\n",
       "        text-align: right;\n",
       "    }\n",
       "</style>\n",
       "<table border=\"1\" class=\"dataframe\">\n",
       "  <thead>\n",
       "    <tr style=\"text-align: right;\">\n",
       "      <th></th>\n",
       "      <th>PRODUCT_ID</th>\n",
       "      <th>MANUFACTURER</th>\n",
       "      <th>DEPARTMENT</th>\n",
       "      <th>BRAND</th>\n",
       "      <th>COMMODITY_DESC</th>\n",
       "      <th>SUB_COMMODITY_DESC</th>\n",
       "      <th>CURR_SIZE_OF_PRODUCT</th>\n",
       "    </tr>\n",
       "  </thead>\n",
       "  <tbody>\n",
       "    <tr>\n",
       "      <th>0</th>\n",
       "      <td>25671</td>\n",
       "      <td>2</td>\n",
       "      <td>GROCERY</td>\n",
       "      <td>National</td>\n",
       "      <td>FRZN ICE</td>\n",
       "      <td>ICE - CRUSHED/CUBED</td>\n",
       "      <td>22 LB</td>\n",
       "    </tr>\n",
       "    <tr>\n",
       "      <th>1</th>\n",
       "      <td>26081</td>\n",
       "      <td>2</td>\n",
       "      <td>MISC. TRANS.</td>\n",
       "      <td>National</td>\n",
       "      <td>NO COMMODITY DESCRIPTION</td>\n",
       "      <td>NO SUBCOMMODITY DESCRIPTION</td>\n",
       "      <td>Unknown</td>\n",
       "    </tr>\n",
       "    <tr>\n",
       "      <th>2</th>\n",
       "      <td>26093</td>\n",
       "      <td>69</td>\n",
       "      <td>PASTRY</td>\n",
       "      <td>Private</td>\n",
       "      <td>BREAD</td>\n",
       "      <td>BREAD:ITALIAN/FRENCH</td>\n",
       "      <td>Unknown</td>\n",
       "    </tr>\n",
       "    <tr>\n",
       "      <th>3</th>\n",
       "      <td>26190</td>\n",
       "      <td>69</td>\n",
       "      <td>GROCERY</td>\n",
       "      <td>Private</td>\n",
       "      <td>FRUIT - SHELF STABLE</td>\n",
       "      <td>APPLE SAUCE</td>\n",
       "      <td>50 OZ</td>\n",
       "    </tr>\n",
       "    <tr>\n",
       "      <th>4</th>\n",
       "      <td>26355</td>\n",
       "      <td>69</td>\n",
       "      <td>GROCERY</td>\n",
       "      <td>Private</td>\n",
       "      <td>COOKIES/CONES</td>\n",
       "      <td>SPECIALTY COOKIES</td>\n",
       "      <td>14 OZ</td>\n",
       "    </tr>\n",
       "  </tbody>\n",
       "</table>\n",
       "</div>"
      ],
      "text/plain": [
       "   PRODUCT_ID  MANUFACTURER    DEPARTMENT     BRAND            COMMODITY_DESC  \\\n",
       "0       25671             2       GROCERY  National                  FRZN ICE   \n",
       "1       26081             2  MISC. TRANS.  National  NO COMMODITY DESCRIPTION   \n",
       "2       26093            69        PASTRY   Private                     BREAD   \n",
       "3       26190            69       GROCERY   Private      FRUIT - SHELF STABLE   \n",
       "4       26355            69       GROCERY   Private             COOKIES/CONES   \n",
       "\n",
       "            SUB_COMMODITY_DESC CURR_SIZE_OF_PRODUCT  \n",
       "0          ICE - CRUSHED/CUBED                22 LB  \n",
       "1  NO SUBCOMMODITY DESCRIPTION              Unknown  \n",
       "2         BREAD:ITALIAN/FRENCH              Unknown  \n",
       "3                  APPLE SAUCE                50 OZ  \n",
       "4            SPECIALTY COOKIES                14 OZ  "
      ]
     },
     "execution_count": 141,
     "metadata": {},
     "output_type": "execute_result"
    }
   ],
   "source": [
    "df_product_or.head()"
   ]
  },
  {
   "cell_type": "code",
   "execution_count": null,
   "id": "e78228fb-eb82-47a1-a8d1-2e7c44d5e8ea",
   "metadata": {},
   "outputs": [],
   "source": [
    "#download the file to use in tableau\n",
    "output_file_path = '/mnt/data/cleaned_product_sizes.csv'\n",
    "df_product1.to_csv(output_file_path, index=False)"
   ]
  },
  {
   "cell_type": "code",
   "execution_count": null,
   "id": "03880917-2228-404e-92fc-f5545142c518",
   "metadata": {},
   "outputs": [],
   "source": []
  },
  {
   "cell_type": "markdown",
   "id": "51412231-4eb2-47b7-8a61-bb6719d9e55b",
   "metadata": {},
   "source": [
    "                                                   TRANSACTION DATA"
   ]
  },
  {
   "cell_type": "code",
   "execution_count": 26,
   "id": "12e3ef1c-984d-44ec-883e-824809db7336",
   "metadata": {},
   "outputs": [],
   "source": [
    "\n",
    "df_transaction = pd.read_csv(\"transaction_data.csv\")"
   ]
  },
  {
   "cell_type": "code",
   "execution_count": 95,
   "id": "f6a1f085-9b89-4cf0-9f9f-a147dc8e8102",
   "metadata": {},
   "outputs": [
    {
     "data": {
      "text/plain": [
       "(1298486, 13)"
      ]
     },
     "execution_count": 95,
     "metadata": {},
     "output_type": "execute_result"
    }
   ],
   "source": [
    "df_transaction.shape"
   ]
  },
  {
   "cell_type": "code",
   "execution_count": 28,
   "id": "74155051-5647-41ee-b1b0-4dc1ff952d0a",
   "metadata": {},
   "outputs": [
    {
     "data": {
      "text/html": [
       "<div>\n",
       "<style scoped>\n",
       "    .dataframe tbody tr th:only-of-type {\n",
       "        vertical-align: middle;\n",
       "    }\n",
       "\n",
       "    .dataframe tbody tr th {\n",
       "        vertical-align: top;\n",
       "    }\n",
       "\n",
       "    .dataframe thead th {\n",
       "        text-align: right;\n",
       "    }\n",
       "</style>\n",
       "<table border=\"1\" class=\"dataframe\">\n",
       "  <thead>\n",
       "    <tr style=\"text-align: right;\">\n",
       "      <th></th>\n",
       "      <th>Unnamed: 0</th>\n",
       "      <th>household_key</th>\n",
       "      <th>BASKET_ID</th>\n",
       "      <th>DAY</th>\n",
       "      <th>PRODUCT_ID</th>\n",
       "      <th>QUANTITY</th>\n",
       "      <th>SALES_VALUE</th>\n",
       "      <th>STORE_ID</th>\n",
       "      <th>RETAIL_DISC</th>\n",
       "      <th>TRANS_TIME</th>\n",
       "      <th>WEEK_NO</th>\n",
       "      <th>COUPON_DISC</th>\n",
       "      <th>COUPON_MATCH_DISC</th>\n",
       "    </tr>\n",
       "  </thead>\n",
       "  <tbody>\n",
       "    <tr>\n",
       "      <th>0</th>\n",
       "      <td>863</td>\n",
       "      <td>1</td>\n",
       "      <td>42229641145</td>\n",
       "      <td>706</td>\n",
       "      <td>5585510</td>\n",
       "      <td>1</td>\n",
       "      <td>2.49</td>\n",
       "      <td>436</td>\n",
       "      <td>0.00</td>\n",
       "      <td>1531</td>\n",
       "      <td>102</td>\n",
       "      <td>0.0</td>\n",
       "      <td>0.0</td>\n",
       "    </tr>\n",
       "    <tr>\n",
       "      <th>1</th>\n",
       "      <td>864</td>\n",
       "      <td>1</td>\n",
       "      <td>33658816354</td>\n",
       "      <td>452</td>\n",
       "      <td>12330539</td>\n",
       "      <td>1</td>\n",
       "      <td>1.25</td>\n",
       "      <td>436</td>\n",
       "      <td>-0.54</td>\n",
       "      <td>1417</td>\n",
       "      <td>65</td>\n",
       "      <td>0.0</td>\n",
       "      <td>0.0</td>\n",
       "    </tr>\n",
       "    <tr>\n",
       "      <th>2</th>\n",
       "      <td>865</td>\n",
       "      <td>1</td>\n",
       "      <td>30578772112</td>\n",
       "      <td>235</td>\n",
       "      <td>1082185</td>\n",
       "      <td>1</td>\n",
       "      <td>0.87</td>\n",
       "      <td>436</td>\n",
       "      <td>-0.60</td>\n",
       "      <td>1705</td>\n",
       "      <td>34</td>\n",
       "      <td>0.0</td>\n",
       "      <td>0.0</td>\n",
       "    </tr>\n",
       "    <tr>\n",
       "      <th>3</th>\n",
       "      <td>866</td>\n",
       "      <td>1</td>\n",
       "      <td>34010015588</td>\n",
       "      <td>472</td>\n",
       "      <td>952924</td>\n",
       "      <td>1</td>\n",
       "      <td>2.79</td>\n",
       "      <td>436</td>\n",
       "      <td>0.00</td>\n",
       "      <td>1125</td>\n",
       "      <td>68</td>\n",
       "      <td>-1.0</td>\n",
       "      <td>0.0</td>\n",
       "    </tr>\n",
       "    <tr>\n",
       "      <th>4</th>\n",
       "      <td>867</td>\n",
       "      <td>1</td>\n",
       "      <td>33065796045</td>\n",
       "      <td>412</td>\n",
       "      <td>965395</td>\n",
       "      <td>3</td>\n",
       "      <td>2.07</td>\n",
       "      <td>436</td>\n",
       "      <td>-0.90</td>\n",
       "      <td>1408</td>\n",
       "      <td>60</td>\n",
       "      <td>0.0</td>\n",
       "      <td>0.0</td>\n",
       "    </tr>\n",
       "  </tbody>\n",
       "</table>\n",
       "</div>"
      ],
      "text/plain": [
       "   Unnamed: 0  household_key    BASKET_ID  DAY  PRODUCT_ID  QUANTITY  \\\n",
       "0         863              1  42229641145  706     5585510         1   \n",
       "1         864              1  33658816354  452    12330539         1   \n",
       "2         865              1  30578772112  235     1082185         1   \n",
       "3         866              1  34010015588  472      952924         1   \n",
       "4         867              1  33065796045  412      965395         3   \n",
       "\n",
       "   SALES_VALUE  STORE_ID  RETAIL_DISC  TRANS_TIME  WEEK_NO  COUPON_DISC  \\\n",
       "0         2.49       436         0.00        1531      102          0.0   \n",
       "1         1.25       436        -0.54        1417       65          0.0   \n",
       "2         0.87       436        -0.60        1705       34          0.0   \n",
       "3         2.79       436         0.00        1125       68         -1.0   \n",
       "4         2.07       436        -0.90        1408       60          0.0   \n",
       "\n",
       "   COUPON_MATCH_DISC  \n",
       "0                0.0  \n",
       "1                0.0  \n",
       "2                0.0  \n",
       "3                0.0  \n",
       "4                0.0  "
      ]
     },
     "execution_count": 28,
     "metadata": {},
     "output_type": "execute_result"
    }
   ],
   "source": [
    "df_transaction.head()"
   ]
  },
  {
   "cell_type": "code",
   "execution_count": 29,
   "id": "cf279a22-c18b-4b7e-9488-3acc3fd50b8b",
   "metadata": {},
   "outputs": [
    {
     "data": {
      "text/html": [
       "<div>\n",
       "<style scoped>\n",
       "    .dataframe tbody tr th:only-of-type {\n",
       "        vertical-align: middle;\n",
       "    }\n",
       "\n",
       "    .dataframe tbody tr th {\n",
       "        vertical-align: top;\n",
       "    }\n",
       "\n",
       "    .dataframe thead th {\n",
       "        text-align: right;\n",
       "    }\n",
       "</style>\n",
       "<table border=\"1\" class=\"dataframe\">\n",
       "  <thead>\n",
       "    <tr style=\"text-align: right;\">\n",
       "      <th></th>\n",
       "      <th>Unnamed: 0</th>\n",
       "      <th>household_key</th>\n",
       "      <th>BASKET_ID</th>\n",
       "      <th>DAY</th>\n",
       "      <th>PRODUCT_ID</th>\n",
       "      <th>QUANTITY</th>\n",
       "      <th>SALES_VALUE</th>\n",
       "      <th>STORE_ID</th>\n",
       "      <th>RETAIL_DISC</th>\n",
       "      <th>TRANS_TIME</th>\n",
       "      <th>WEEK_NO</th>\n",
       "      <th>COUPON_DISC</th>\n",
       "      <th>COUPON_MATCH_DISC</th>\n",
       "    </tr>\n",
       "  </thead>\n",
       "  <tbody>\n",
       "    <tr>\n",
       "      <th>1298481</th>\n",
       "      <td>1498</td>\n",
       "      <td>2500</td>\n",
       "      <td>28057122795</td>\n",
       "      <td>90</td>\n",
       "      <td>6514008</td>\n",
       "      <td>1</td>\n",
       "      <td>4.99</td>\n",
       "      <td>327</td>\n",
       "      <td>-0.4</td>\n",
       "      <td>1946</td>\n",
       "      <td>14</td>\n",
       "      <td>0.0</td>\n",
       "      <td>0.0</td>\n",
       "    </tr>\n",
       "    <tr>\n",
       "      <th>1298482</th>\n",
       "      <td>1499</td>\n",
       "      <td>2500</td>\n",
       "      <td>41599946638</td>\n",
       "      <td>659</td>\n",
       "      <td>997479</td>\n",
       "      <td>1</td>\n",
       "      <td>1.99</td>\n",
       "      <td>447</td>\n",
       "      <td>0.0</td>\n",
       "      <td>1815</td>\n",
       "      <td>95</td>\n",
       "      <td>0.0</td>\n",
       "      <td>0.0</td>\n",
       "    </tr>\n",
       "    <tr>\n",
       "      <th>1298483</th>\n",
       "      <td>1500</td>\n",
       "      <td>2500</td>\n",
       "      <td>34850276975</td>\n",
       "      <td>507</td>\n",
       "      <td>859237</td>\n",
       "      <td>1</td>\n",
       "      <td>1.29</td>\n",
       "      <td>330</td>\n",
       "      <td>0.0</td>\n",
       "      <td>1542</td>\n",
       "      <td>73</td>\n",
       "      <td>0.0</td>\n",
       "      <td>0.0</td>\n",
       "    </tr>\n",
       "    <tr>\n",
       "      <th>1298484</th>\n",
       "      <td>1501</td>\n",
       "      <td>2500</td>\n",
       "      <td>41493000826</td>\n",
       "      <td>651</td>\n",
       "      <td>1087167</td>\n",
       "      <td>1</td>\n",
       "      <td>3.29</td>\n",
       "      <td>327</td>\n",
       "      <td>0.0</td>\n",
       "      <td>1234</td>\n",
       "      <td>94</td>\n",
       "      <td>0.0</td>\n",
       "      <td>0.0</td>\n",
       "    </tr>\n",
       "    <tr>\n",
       "      <th>1298485</th>\n",
       "      <td>1502</td>\n",
       "      <td>2500</td>\n",
       "      <td>41297427214</td>\n",
       "      <td>636</td>\n",
       "      <td>948670</td>\n",
       "      <td>2</td>\n",
       "      <td>15.60</td>\n",
       "      <td>447</td>\n",
       "      <td>0.0</td>\n",
       "      <td>1910</td>\n",
       "      <td>92</td>\n",
       "      <td>0.0</td>\n",
       "      <td>0.0</td>\n",
       "    </tr>\n",
       "  </tbody>\n",
       "</table>\n",
       "</div>"
      ],
      "text/plain": [
       "         Unnamed: 0  household_key    BASKET_ID  DAY  PRODUCT_ID  QUANTITY  \\\n",
       "1298481        1498           2500  28057122795   90     6514008         1   \n",
       "1298482        1499           2500  41599946638  659      997479         1   \n",
       "1298483        1500           2500  34850276975  507      859237         1   \n",
       "1298484        1501           2500  41493000826  651     1087167         1   \n",
       "1298485        1502           2500  41297427214  636      948670         2   \n",
       "\n",
       "         SALES_VALUE  STORE_ID  RETAIL_DISC  TRANS_TIME  WEEK_NO  COUPON_DISC  \\\n",
       "1298481         4.99       327         -0.4        1946       14          0.0   \n",
       "1298482         1.99       447          0.0        1815       95          0.0   \n",
       "1298483         1.29       330          0.0        1542       73          0.0   \n",
       "1298484         3.29       327          0.0        1234       94          0.0   \n",
       "1298485        15.60       447          0.0        1910       92          0.0   \n",
       "\n",
       "         COUPON_MATCH_DISC  \n",
       "1298481                0.0  \n",
       "1298482                0.0  \n",
       "1298483                0.0  \n",
       "1298484                0.0  \n",
       "1298485                0.0  "
      ]
     },
     "execution_count": 29,
     "metadata": {},
     "output_type": "execute_result"
    }
   ],
   "source": [
    "df_transaction.tail()"
   ]
  },
  {
   "cell_type": "code",
   "execution_count": 142,
   "id": "6470567f-db1d-4de4-bc53-18cac6b5c648",
   "metadata": {},
   "outputs": [
    {
     "data": {
      "text/plain": [
       "Index(['Unnamed: 0', 'household_key', 'BASKET_ID', 'DAY', 'PRODUCT_ID',\n",
       "       'QUANTITY', 'SALES_VALUE', 'STORE_ID', 'RETAIL_DISC', 'TRANS_TIME',\n",
       "       'WEEK_NO', 'COUPON_DISC', 'COUPON_MATCH_DISC'],\n",
       "      dtype='object')"
      ]
     },
     "execution_count": 142,
     "metadata": {},
     "output_type": "execute_result"
    }
   ],
   "source": [
    "df_transaction.columns"
   ]
  },
  {
   "attachments": {},
   "cell_type": "markdown",
   "id": "d08d8acf-662d-4ba6-b100-e093d053c8d3",
   "metadata": {},
   "source": [
    "                                                         RECOMDENDATIONS"
   ]
  },
  {
   "cell_type": "markdown",
   "id": "ebaf380a-1aad-42c4-ba6e-8b2106466436",
   "metadata": {},
   "source": [
    "1. Targeted marketing: Since the majority of transactions are made by homeowners, people falling into the age group of 35–54, having a household size of 1 or 2, having an income of 35K–74K, and during night time of the day, it would be beneficial to tailor marketing strategies to cater to their preferences and needs. This could include specific promotions, product offerings, or advertising campaigns designed to attract these customers.\n",
    "   \n",
    "2. Engage with new homeowners: As a significant portion of sales transactions (67.52%) come from customers who are homewoners, it presents an opportunity to engage with them. Targeted marketing, welcoming offers, and incentives for them can help capture their loyalty and increase their spending.\n",
    "\n",
    "3. Time-based marketing: With a significant number of sales(83.87%) done during the night time, tailoring marketing strategies to target\n",
    " night time can lead to better results. Allocating resources, promotions, and events based on the customer concentration in each\n",
    "city can help drive sales.\n",
    "   \n",
    "4. Emphasise popular product departments: Since the majority of sales transactions are concentrated in just five product departments (grocery, drugGM, KIOSK Gas, product, and meat), allocating resources and promotions towards these categories can maximise sales potential. Highlighting these popular departments and offering attractive deals can encourage more purchases. Ensuring a wide range of options and competitive pricing, can capitalise on customer demand and drive overallsales.\n",
    "   \n",
    "5. Increase focus on married customers: Given that 46.6% of total revenue is generated by married customers, dedicating efforts to cater to their needs and preferences can help drive more sales. Understanding their motivations and targeting them with personalised offers can enhance their shopping experience and loyalty.\n",
    "\n",
    "6. Optimise revenue from specific age groups: Since a majority of transactions are made by customers between the ages of 35 and 54. It is important to focus marketing efforts on this demographic. Offering products and services that align with their interests and values can maximise revenue generation.\n",
    "   \n",
    "7. Personalised offers for high spenders: identifying customers with high total spending, such as homeowners or customers of a specific age groups, allows for targeted marketing and personalised offers. Providing exclusive discounts, loyalty rewards, or special privileges toThese customers can encourage repeat purchases and increase customer satisfaction.\n",
    "\n",
    "8. Implement a loyalty programmeme: Implement a loyalty programmeme that offers incentives, rewards, and exclusive deals to encouragerepeat purchases and increase customer retention. Targeted loyalty programmes can be designed for homeowners, married customers,and customers in specific age groups.\n",
    "   \n"
   ]
  }
 ],
 "metadata": {
  "kernelspec": {
   "display_name": "Python 3 (ipykernel)",
   "language": "python",
   "name": "python3"
  },
  "language_info": {
   "codemirror_mode": {
    "name": "ipython",
    "version": 3
   },
   "file_extension": ".py",
   "mimetype": "text/x-python",
   "name": "python",
   "nbconvert_exporter": "python",
   "pygments_lexer": "ipython3",
   "version": "3.11.3"
  }
 },
 "nbformat": 4,
 "nbformat_minor": 5
}
